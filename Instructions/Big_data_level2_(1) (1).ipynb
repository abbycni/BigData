{
  "cells": [
    {
      "cell_type": "code",
      "execution_count": 1,
      "metadata": {
        "colab": {
          "base_uri": "https://localhost:8080/"
        },
        "id": "Y6pz7LGh_L1p",
        "outputId": "9a773c38-60fc-4592-91d9-12da59870663"
      },
      "outputs": [
        {
          "output_type": "stream",
          "name": "stdout",
          "text": [
            "\r0% [Working]\r            \rGet:1 http://security.ubuntu.com/ubuntu bionic-security InRelease [88.7 kB]\n",
            "\r0% [Connecting to archive.ubuntu.com (185.125.190.39)] [1 InRelease 14.2 kB/88.\r                                                                               \rHit:2 http://ppa.launchpad.net/c2d4u.team/c2d4u4.0+/ubuntu bionic InRelease\n",
            "\r0% [Waiting for headers] [1 InRelease 75.0 kB/88.7 kB 85%] [Connected to cloud.\r                                                                               \rHit:3 http://archive.ubuntu.com/ubuntu bionic InRelease\n",
            "\r                                                                               \rGet:4 http://archive.ubuntu.com/ubuntu bionic-updates InRelease [88.7 kB]\n",
            "\r                                                                               \rHit:5 https://developer.download.nvidia.com/compute/cuda/repos/ubuntu1804/x86_64  InRelease\n",
            "\r0% [4 InRelease 15.6 kB/88.7 kB 18%] [1 InRelease 75.0 kB/88.7 kB 85%] [Connect\r                                                                               \rHit:6 http://ppa.launchpad.net/cran/libgit2/ubuntu bionic InRelease\n",
            "\r0% [4 InRelease 15.6 kB/88.7 kB 18%] [1 InRelease 75.0 kB/88.7 kB 85%] [Connect\r0% [2 InRelease gpgv 15.9 kB] [4 InRelease 15.6 kB/88.7 kB 18%] [1 InRelease 88\r0% [2 InRelease gpgv 15.9 kB] [4 InRelease 18.5 kB/88.7 kB 21%] [Connected to c\r                                                                               \rHit:7 https://cloud.r-project.org/bin/linux/ubuntu bionic-cran40/ InRelease\n",
            "\r0% [2 InRelease gpgv 15.9 kB] [4 InRelease 75.0 kB/88.7 kB 85%] [Waiting for he\r                                                                               \rHit:8 http://ppa.launchpad.net/deadsnakes/ppa/ubuntu bionic InRelease\n",
            "\r0% [2 InRelease gpgv 15.9 kB] [4 InRelease 86.6 kB/88.7 kB 98%] [Waiting for he\r0% [2 InRelease gpgv 15.9 kB] [Waiting for headers] [Connecting to ppa.launchpa\r                                                                               \rGet:9 http://archive.ubuntu.com/ubuntu bionic-backports InRelease [74.6 kB]\n",
            "Hit:10 http://ppa.launchpad.net/graphics-drivers/ppa/ubuntu bionic InRelease\n",
            "Ign:11 https://developer.download.nvidia.com/compute/machine-learning/repos/ubuntu1804/x86_64  InRelease\n",
            "Hit:12 https://developer.download.nvidia.com/compute/machine-learning/repos/ubuntu1804/x86_64  Release\n",
            "Fetched 252 kB in 2s (167 kB/s)\n",
            "Reading package lists... Done\n"
          ]
        }
      ],
      "source": [
        "import os\n",
        "# Find the latest version of spark 3.0  from http://www.apache.org/dist/spark/ and enter as the spark version\n",
        "# For example:\n",
        "# spark_version = 'spark-3.0.3'\n",
        "spark_version = 'spark-3.2.1'\n",
        "os.environ['SPARK_VERSION']=spark_version\n",
        "\n",
        "# Install Spark and Java\n",
        "!apt-get update\n",
        "!apt-get install openjdk-8-jdk-headless -qq > /dev/null\n",
        "!wget -q http://www.apache.org/dist/spark/$SPARK_VERSION/$SPARK_VERSION-bin-hadoop2.7.tgz\n",
        "!tar xf $SPARK_VERSION-bin-hadoop2.7.tgz\n",
        "!pip install -q findspark\n",
        "\n",
        "# Set Environment Variables\n",
        "os.environ[\"JAVA_HOME\"] = \"/usr/lib/jvm/java-8-openjdk-amd64\"\n",
        "os.environ[\"SPARK_HOME\"] = f\"/content/{spark_version}-bin-hadoop2.7\"\n",
        "\n",
        "# Start a SparkSession\n",
        "import findspark\n",
        "findspark.init()"
      ]
    },
    {
      "cell_type": "code",
      "execution_count": 2,
      "metadata": {
        "colab": {
          "base_uri": "https://localhost:8080/"
        },
        "id": "LUvQ-zDGqOxt",
        "outputId": "ddb40234-424c-4bae-ae82-884c9b945f27"
      },
      "outputs": [
        {
          "output_type": "stream",
          "name": "stdout",
          "text": [
            "--2022-05-22 05:03:52--  https://jdbc.postgresql.org/download/postgresql-42.2.9.jar\n",
            "Resolving jdbc.postgresql.org (jdbc.postgresql.org)... 72.32.157.228, 2001:4800:3e1:1::228\n",
            "Connecting to jdbc.postgresql.org (jdbc.postgresql.org)|72.32.157.228|:443... connected.\n",
            "HTTP request sent, awaiting response... 200 OK\n",
            "Length: 914037 (893K) [application/java-archive]\n",
            "Saving to: ‘postgresql-42.2.9.jar.3’\n",
            "\n",
            "postgresql-42.2.9.j 100%[===================>] 892.61K  1.54MB/s    in 0.6s    \n",
            "\n",
            "2022-05-22 05:03:54 (1.54 MB/s) - ‘postgresql-42.2.9.jar.3’ saved [914037/914037]\n",
            "\n"
          ]
        }
      ],
      "source": [
        "!wget https://jdbc.postgresql.org/download/postgresql-42.2.9.jar"
      ]
    },
    {
      "cell_type": "code",
      "execution_count": 3,
      "metadata": {
        "id": "AOCu68oPqOxu"
      },
      "outputs": [],
      "source": [
        "from pyspark.sql import SparkSession\n",
        "spark = SparkSession.builder.appName(\"CloudETL\").config(\"spark.driver.extraClassPath\",\"/content/postgresql-42.2.9.jar\").getOrCreate()"
      ]
    },
    {
      "cell_type": "code",
      "execution_count": 4,
      "metadata": {
        "colab": {
          "base_uri": "https://localhost:8080/"
        },
        "id": "aIGU4Tzs_Q4g",
        "outputId": "00643784-f86e-477d-bff6-593963e3ba7f"
      },
      "outputs": [
        {
          "output_type": "stream",
          "name": "stdout",
          "text": [
            "+-----------+-----------+--------------+----------+--------------+--------------------+----------------+-----------+-------------+-----------+----+-----------------+--------------------+--------------------+-----------+\n",
            "|marketplace|customer_id|     review_id|product_id|product_parent|       product_title|product_category|star_rating|helpful_votes|total_votes|vine|verified_purchase|     review_headline|         review_body|review_date|\n",
            "+-----------+-----------+--------------+----------+--------------+--------------------+----------------+-----------+-------------+-----------+----+-----------------+--------------------+--------------------+-----------+\n",
            "|         US|   16199106|R203HPW78Z7N4K|B0067WNSZY|     633038551|FGGF3032MW Galler...|Major Appliances|          5|            0|          0|   N|                Y|If you need a new...|What a great stov...| 2015-08-31|\n",
            "|         US|   16374060|R2EAIGVLEALSP3|B002QSXK60|     811766671|Best Hand Clothes...|Major Appliances|          5|            1|          1|   N|                Y|          Five Stars|        worked great| 2015-08-31|\n",
            "|         US|   15322085|R1K1CD73HHLILA|B00EC452R6|     345562728|Supco SET184 Ther...|Major Appliances|          5|            0|          0|   N|                Y|       Fast Shipping|Part exactly what...| 2015-08-31|\n",
            "|         US|   32004835|R2KZBMOFRMYOPO|B00MVVIF2G|     563052763|Midea WHS-160RB1 ...|Major Appliances|          5|            1|          1|   N|                Y|          Five Stars|Love my refrigera...| 2015-08-31|\n",
            "|         US|   25414497| R6BIZOZY6UD01|B00IY7BNUW|     874236579|Avalon Bay Portab...|Major Appliances|          5|            0|          0|   N|                Y|          Five Stars|No more running t...| 2015-08-31|\n",
            "|         US|   36311751|R1MCXZFNF8E7Y0|B0033X29CI|     294467812|Danby  Freestandi...|Major Appliances|          1|            0|          0|   N|                Y|       Piece of Junk|It would not cool...| 2015-08-31|\n",
            "|         US|   30920961|R3EMB3E3ODR6BW|B005R597HA|     183784715|Avanti 110-Volt A...|Major Appliances|          5|            2|          2|   N|                Y|Works awesome for...|Works awesome for...| 2015-08-31|\n",
            "|         US|   52491265| RJTONVTTOPJ5S|B00MO6V8Y0|     960251524|      Danby products|Major Appliances|          5|            0|          0|   N|                Y|          Five Stars|exactly what I wa...| 2015-08-31|\n",
            "|         US|   48166169|R21U5QZ2CQECUM|B00HT39QDI|     992475314|3 Pack Tier1 MSWF...|Major Appliances|          4|            0|          0|   N|                Y|          Four Stars|       AS advertised| 2015-08-31|\n",
            "|         US|   50394924| RL2BBC51H89DH|B00LESFZ52|       1641606|True TSSU-60-16 6...|Major Appliances|          4|            0|          0|   N|                Y|but has poor insu...|It works as adver...| 2015-08-31|\n",
            "+-----------+-----------+--------------+----------+--------------+--------------------+----------------+-----------+-------------+-----------+----+-----------------+--------------------+--------------------+-----------+\n",
            "only showing top 10 rows\n",
            "\n"
          ]
        }
      ],
      "source": [
        "from pyspark import SparkFiles\n",
        "# Load in employee.csv from S3 into a DataFrame\n",
        "url = \"https://s3.amazonaws.com/amazon-reviews-pds/tsv/amazon_reviews_us_Major_Appliances_v1_00.tsv.gz\"\n",
        "spark.sparkContext.addFile(url)\n",
        "\n",
        "df = spark.read.option('header', 'true').csv(SparkFiles.get(\"amazon_reviews_us_Major_Appliances_v1_00.tsv.gz\"), inferSchema=True, sep='\\t', timestampFormat=\"mm/dd/yy\")\n",
        "df.show(10)"
      ]
    },
    {
      "cell_type": "markdown",
      "metadata": {
        "id": "kdtKPZ1w_V3e"
      },
      "source": [
        "## Drop duplicates and incomplete rows"
      ]
    },
    {
      "cell_type": "code",
      "execution_count": 5,
      "metadata": {
        "colab": {
          "base_uri": "https://localhost:8080/"
        },
        "id": "10qoqQv3_Y_w",
        "outputId": "fef071a8-4a57-4af2-8e97-555fae59f24b"
      },
      "outputs": [
        {
          "output_type": "stream",
          "name": "stdout",
          "text": [
            "96901\n",
            "96888\n",
            "96888\n"
          ]
        }
      ],
      "source": [
        "print(df.count())\n",
        "df = df.dropna()\n",
        "print(df.count())\n",
        "df = df.dropDuplicates()\n",
        "print(df.count())"
      ]
    },
    {
      "cell_type": "markdown",
      "metadata": {
        "id": "GAgvBYkG_awE"
      },
      "source": [
        "## Examine the schema"
      ]
    },
    {
      "cell_type": "code",
      "execution_count": 6,
      "metadata": {
        "colab": {
          "base_uri": "https://localhost:8080/"
        },
        "id": "SXtPi-Hw_dCe",
        "outputId": "5540e780-39a9-4bc3-dfaa-b574313b5b0f"
      },
      "outputs": [
        {
          "output_type": "stream",
          "name": "stdout",
          "text": [
            "root\n",
            " |-- marketplace: string (nullable = true)\n",
            " |-- customer_id: integer (nullable = true)\n",
            " |-- review_id: string (nullable = true)\n",
            " |-- product_id: string (nullable = true)\n",
            " |-- product_parent: integer (nullable = true)\n",
            " |-- product_title: string (nullable = true)\n",
            " |-- product_category: string (nullable = true)\n",
            " |-- star_rating: integer (nullable = true)\n",
            " |-- helpful_votes: integer (nullable = true)\n",
            " |-- total_votes: integer (nullable = true)\n",
            " |-- vine: string (nullable = true)\n",
            " |-- verified_purchase: string (nullable = true)\n",
            " |-- review_headline: string (nullable = true)\n",
            " |-- review_body: string (nullable = true)\n",
            " |-- review_date: string (nullable = true)\n",
            "\n"
          ]
        }
      ],
      "source": [
        "df.printSchema()"
      ]
    },
    {
      "cell_type": "code",
      "source": [
        "\n",
        "unpaid_df=df.where(\"vine == 'N'\")\n",
        "\n",
        "\n"
      ],
      "metadata": {
        "id": "dUiynR6a82v3"
      },
      "execution_count": 21,
      "outputs": []
    },
    {
      "cell_type": "code",
      "source": [
        "unpaid_df.show()"
      ],
      "metadata": {
        "colab": {
          "base_uri": "https://localhost:8080/"
        },
        "id": "4Dh45lf1LVA_",
        "outputId": "f9eb640d-3f26-4f6d-bdc1-337be7e5a6bd"
      },
      "execution_count": 22,
      "outputs": [
        {
          "output_type": "stream",
          "name": "stdout",
          "text": [
            "+-----------+-----------+--------------+----------+--------------+--------------------+----------------+-----------+-------------+-----------+----+-----------------+--------------------+--------------------+-----------+\n",
            "|marketplace|customer_id|     review_id|product_id|product_parent|       product_title|product_category|star_rating|helpful_votes|total_votes|vine|verified_purchase|     review_headline|         review_body|review_date|\n",
            "+-----------+-----------+--------------+----------+--------------+--------------------+----------------+-----------+-------------+-----------+----+-----------------+--------------------+--------------------+-----------+\n",
            "|         US|   26514959|R354ZG794Q5KJQ|B00E66SE2U|     199871830|Part # 3390719 - ...|Major Appliances|          3|            0|          0|   N|                Y|         Three Stars|not an oem part b...| 2015-08-30|\n",
            "|         US|   48250444| RNZ36HB1YSQ6G|B00SNKU7VQ|     197365398|Whirlpool W102953...|Major Appliances|          5|            1|          1|   N|                Y|          Five Stars|        Works great!| 2015-08-29|\n",
            "|         US|    3420426| R2MHXTICGUDVE|B00NN166DS|     546911168|GE GFE28HSHSS 27....|Major Appliances|          1|            3|          3|   N|                N|Worst customer se...|Worst customer se...| 2015-08-29|\n",
            "|         US|     539114|R172DDSWTL0P9K|B00AW04ZMM|     962476921|Panda Small Compa...|Major Appliances|          5|            0|          0|   N|                N|          Five Stars|Very quiet very r...| 2015-08-22|\n",
            "|         US|   13016134|R1SUJJFCOKC7HI|B00GXHRC6E|     348942012|LG H/E Super Capa...|Major Appliances|          1|            3|          3|   N|                N|Repeated error co...|This is regarding...| 2015-08-22|\n",
            "|         US|   11324103| R1EGFDXPYGROC|B00J8A9S4C|     772573004|Bosch NGM8655UC 8...|Major Appliances|          5|           28|         32|   N|                Y|       Great Cooktop|We bought this to...| 2015-08-22|\n",
            "|         US|   17539277|R3LSXWYAIE6WBG|B00413662I|     801135043|Amana 1.5 cu. ft....|Major Appliances|          1|            0|          2|   N|                Y|            One Star|Package and produ...| 2015-08-22|\n",
            "|         US|   17299942| REIN0JDLBLFHA|B00FN898HU|     462369678|GOLDEN VANTAGE 30...|Major Appliances|          5|            1|          1|   N|                Y|          Five Stars|High end look at ...| 2015-08-22|\n",
            "|         US|   22355805|R2EZ2UXVLUANE8|B005KT4LK6|     236627965|Whirlpool WTW8800...|Major Appliances|          1|            0|          0|   N|                N| AVOID AT ALL COST!!|Beyond horrible -...| 2015-08-20|\n",
            "|         US|   45332207| R9XCQJZA5BKO6|B00N0GDA9O|     286297774|Fisher Paykel RF1...|Major Appliances|          5|            1|          9|   N|                Y|          Five Stars|Expensive but onl...| 2015-08-20|\n",
            "|         US|   15067373|R3A91XAOIHUNTW|B00DYJNNWQ|     779409171|Luma Comfort IM20...|Major Appliances|          1|           29|         31|   N|                Y|Cloudy ugly ice i...|Update 6-10-16: T...| 2015-08-18|\n",
            "|         US|   14217524|R144T3UALNFF1L|B005GM942C|     788261054|Panda Small Mini ...|Major Appliances|          5|            3|          3|   N|                Y|This is a perfect...|I bought this for...| 2015-08-16|\n",
            "|         US|   41951208|R2U7PT7NS9AMNV|B005DUT1NE|     451137375|Maytag MVWB950YW ...|Major Appliances|          1|            0|          0|   N|                N|the washer in spi...|I wish Amazon had...| 2015-08-15|\n",
            "|         US|   25304775|R3KQ937ROQEDDI|B00B2NPKRM|     454581724|Dishwaser Stainle...|Major Appliances|          3|            3|          3|   N|                N|not easy to insta...|The final look's ...| 2015-08-12|\n",
            "|         US|   24208715|R3L3GUZT0PDH56|B0058ENV2W|     673085264|Midea White/Black...|Major Appliances|          5|            0|          1|   N|                Y|          Five Stars|I am very happy w...| 2015-08-09|\n",
            "|         US|   33532227|R3IN0KR3ZIMYCS|B007OWOK7Q|     274523657|DISPOSABLE FOIL B...|Major Appliances|          5|            0|          0|   N|                Y|you can't find th...|you can't find th...| 2015-08-08|\n",
            "|         US|   11267996| REL2JGWLEGLFX|B00KD5CCZ8|     425600013|NewAir AI-100R 28...|Major Appliances|          5|            0|          0|   N|                Y|     Plenty o' ice !|This little baby ...| 2015-08-06|\n",
            "|         US|    2712123| RIJ9PZW1M5TKG|B00JG8B42K|     672722354|OnePurify RFC0800...|Major Appliances|          5|            0|          0|   N|                Y|Great Filter, Gre...|works just as goo...| 2015-08-04|\n",
            "|         US|   49364773|R3SIN6FLY5VY2C|B00BAXC2W0|     703829999|NY Cake Mold Sili...|Major Appliances|          5|            0|          0|   N|                Y|          Five Stars|Have not used yet...| 2015-08-03|\n",
            "|         US|   18912524|R1O6DGVSHD1GLI|B0039V5HZK|     629802555|LG DLE5001W7.3 Cu...|Major Appliances|          4|            0|          0|   N|                Y|        Works Great!|Had some difficul...| 2015-08-01|\n",
            "+-----------+-----------+--------------+----------+--------------+--------------------+----------------+-----------+-------------+-----------+----+-----------------+--------------------+--------------------+-----------+\n",
            "only showing top 20 rows\n",
            "\n"
          ]
        }
      ]
    },
    {
      "cell_type": "code",
      "source": [
        "print(unpaid_df.count())"
      ],
      "metadata": {
        "colab": {
          "base_uri": "https://localhost:8080/"
        },
        "id": "McL7g3TIMFyR",
        "outputId": "69a2e060-83e5-4b9f-996f-6580e602b5fb"
      },
      "execution_count": 27,
      "outputs": [
        {
          "output_type": "stream",
          "name": "stdout",
          "text": [
            "96640\n"
          ]
        }
      ]
    },
    {
      "cell_type": "code",
      "source": [
        "star5unpaid_df=unpaid_df.where(\"star_rating == '5'\")"
      ],
      "metadata": {
        "id": "UMoQz96ELGt0"
      },
      "execution_count": 23,
      "outputs": []
    },
    {
      "cell_type": "code",
      "source": [
        "star1unpaid_df=unpaid_df.where(\"star_rating == '1'\")"
      ],
      "metadata": {
        "id": "LFzr_5MVTYe5"
      },
      "execution_count": 31,
      "outputs": []
    },
    {
      "cell_type": "code",
      "source": [
        "star1unpaid_df.show()"
      ],
      "metadata": {
        "colab": {
          "base_uri": "https://localhost:8080/"
        },
        "id": "Raw_VL35TbLF",
        "outputId": "3c3a06da-089d-4e8e-d7b6-8328f4b001e3"
      },
      "execution_count": 32,
      "outputs": [
        {
          "output_type": "stream",
          "name": "stdout",
          "text": [
            "+-----------+-----------+--------------+----------+--------------+--------------------+----------------+-----------+-------------+-----------+----+-----------------+--------------------+--------------------+-----------+\n",
            "|marketplace|customer_id|     review_id|product_id|product_parent|       product_title|product_category|star_rating|helpful_votes|total_votes|vine|verified_purchase|     review_headline|         review_body|review_date|\n",
            "+-----------+-----------+--------------+----------+--------------+--------------------+----------------+-----------+-------------+-----------+----+-----------------+--------------------+--------------------+-----------+\n",
            "|         US|    3420426| R2MHXTICGUDVE|B00NN166DS|     546911168|GE GFE28HSHSS 27....|Major Appliances|          1|            3|          3|   N|                N|Worst customer se...|Worst customer se...| 2015-08-29|\n",
            "|         US|   13016134|R1SUJJFCOKC7HI|B00GXHRC6E|     348942012|LG H/E Super Capa...|Major Appliances|          1|            3|          3|   N|                N|Repeated error co...|This is regarding...| 2015-08-22|\n",
            "|         US|   17539277|R3LSXWYAIE6WBG|B00413662I|     801135043|Amana 1.5 cu. ft....|Major Appliances|          1|            0|          2|   N|                Y|            One Star|Package and produ...| 2015-08-22|\n",
            "|         US|   22355805|R2EZ2UXVLUANE8|B005KT4LK6|     236627965|Whirlpool WTW8800...|Major Appliances|          1|            0|          0|   N|                N| AVOID AT ALL COST!!|Beyond horrible -...| 2015-08-20|\n",
            "|         US|   15067373|R3A91XAOIHUNTW|B00DYJNNWQ|     779409171|Luma Comfort IM20...|Major Appliances|          1|           29|         31|   N|                Y|Cloudy ugly ice i...|Update 6-10-16: T...| 2015-08-18|\n",
            "|         US|   41951208|R2U7PT7NS9AMNV|B005DUT1NE|     451137375|Maytag MVWB950YW ...|Major Appliances|          1|            0|          0|   N|                N|the washer in spi...|I wish Amazon had...| 2015-08-15|\n",
            "|         US|   30897104|R2R4A8HGZSYWT9|B0011YLIXM|     862306796|U-Line : 1175WCS-...|Major Appliances|          1|            0|          0|   N|                N|A piece of junk, ...|A piece of junk, ...| 2015-07-21|\n",
            "|         US|   33137720|R1F8DC1SUS93LE|B005FD7Z82|     434035580|The Laundry POD, ...|Major Appliances|          1|            3|          6|   N|                Y|            One Star|       This is junk!| 2015-07-11|\n",
            "|         US|   43828180|R14PJYMQ1E74IH|B007TTSHQY|     327326548|LG WT5170 4.7 Cu....|Major Appliances|          1|            0|          0|   N|                N|        Don't buy LG|After two and a h...| 2015-06-16|\n",
            "|         US|   52943336|R2AFZI7D5C018Z|B002NFIG6U|     614487117|Bosch : SHX43P15U...|Major Appliances|          1|            0|          0|   N|                N|This is an unreli...|Do not buy this d...| 2015-06-09|\n",
            "|         US|   37779842|R3PCBBFJSO08AH|B003WFR0RG|     621904256|Bosch HMV5051U 1....|Major Appliances|          1|            2|          2|   N|                N|It seems that it ...|Unfortunately the...| 2015-05-31|\n",
            "|         US|   11733379|R2A0P49EOVXT4G|B000OGS2OG|     333031541|LG : WM2016CW 27 ...|Major Appliances|          1|            1|          1|   N|                N|Zero stars!!! RUN...|I have owned this...| 2015-05-18|\n",
            "|         US|   31196655|R1O00QF3WNWYGY|B00EHEAAFK|     949783349|Nostalgia ICE100C...|Major Appliances|          1|            2|          2|   N|                Y|Quit after one we...|After one week th...| 2015-05-12|\n",
            "|         US|   11243338|R39UMJBR27XBK1|B00JL575GM|     993308822|NewAir WCD-100W T...|Major Appliances|          1|            0|          0|   N|                Y|            Cracked!|At first we loved...| 2015-05-06|\n",
            "|         US|   12450126|R3E2XSC266NKQS|B00D7JUXMQ|     787904741|Whynter Freestand...|Major Appliances|          1|            6|          9|   N|                Y|Buyer Beware - Ma...|I purchased this ...| 2015-05-01|\n",
            "|         US|    8266678|R3S4BUZ026F1ZU|B001G090WW|     656361134|Amana 5.0 cu. ft....|Major Appliances|          1|            3|          3|   N|                N|  Worst. Oven. Ever.|I'm an pasionate ...| 2015-04-25|\n",
            "|         US|    8704961|R3L2F8N9SXB2M7|B000AMOB94|     723142788|Broan Economy 36-...|Major Appliances|          1|            0|          0|   N|                Y|            One Star|Item is not stain...| 2015-04-24|\n",
            "|         US|   39068710| R845ZCGZNM6IH|B00FBN75TK|     115151828|NEW IceMeister 21...|Major Appliances|          1|            1|          2|   N|                N|Hate it and this ...|Hate it and this ...| 2015-04-23|\n",
            "|         US|   22655783|R37KKT540G2DA0|B003ZVI742|     481473874|Kitchenaid KUDS30...|Major Appliances|          1|            0|          0|   N|                N| Negative 10 stars!!|Can I rate this a...| 2015-04-22|\n",
            "|         US|   26151028|R1N8E5MD2VQXMI|B00EXS0L18|     238713239|Maytag Maxima XL ...|Major Appliances|          1|            4|          4|   N|                N|  Avoid this Machine|OMG the repairman...| 2015-04-01|\n",
            "+-----------+-----------+--------------+----------+--------------+--------------------+----------------+-----------+-------------+-----------+----+-----------------+--------------------+--------------------+-----------+\n",
            "only showing top 20 rows\n",
            "\n"
          ]
        }
      ]
    },
    {
      "cell_type": "code",
      "source": [
        "print(star1unpaid_df.count())"
      ],
      "metadata": {
        "colab": {
          "base_uri": "https://localhost:8080/"
        },
        "id": "t68yyQwgTm3v",
        "outputId": "8b6c6b02-3382-45eb-9713-b69c371ad6fe"
      },
      "execution_count": 33,
      "outputs": [
        {
          "output_type": "stream",
          "name": "stdout",
          "text": [
            "19835\n"
          ]
        }
      ]
    },
    {
      "cell_type": "code",
      "source": [
        "star5unpaid_df.show()\n"
      ],
      "metadata": {
        "colab": {
          "base_uri": "https://localhost:8080/"
        },
        "id": "miJgfWDeI9qg",
        "outputId": "faf4e6fc-48d8-4e68-ac63-82468c53d9b2"
      },
      "execution_count": 24,
      "outputs": [
        {
          "output_type": "stream",
          "name": "stdout",
          "text": [
            "+-----------+-----------+--------------+----------+--------------+--------------------+----------------+-----------+-------------+-----------+----+-----------------+--------------------+--------------------+-----------+\n",
            "|marketplace|customer_id|     review_id|product_id|product_parent|       product_title|product_category|star_rating|helpful_votes|total_votes|vine|verified_purchase|     review_headline|         review_body|review_date|\n",
            "+-----------+-----------+--------------+----------+--------------+--------------------+----------------+-----------+-------------+-----------+----+-----------------+--------------------+--------------------+-----------+\n",
            "|         US|   48250444| RNZ36HB1YSQ6G|B00SNKU7VQ|     197365398|Whirlpool W102953...|Major Appliances|          5|            1|          1|   N|                Y|          Five Stars|        Works great!| 2015-08-29|\n",
            "|         US|     539114|R172DDSWTL0P9K|B00AW04ZMM|     962476921|Panda Small Compa...|Major Appliances|          5|            0|          0|   N|                N|          Five Stars|Very quiet very r...| 2015-08-22|\n",
            "|         US|   11324103| R1EGFDXPYGROC|B00J8A9S4C|     772573004|Bosch NGM8655UC 8...|Major Appliances|          5|           28|         32|   N|                Y|       Great Cooktop|We bought this to...| 2015-08-22|\n",
            "|         US|   17299942| REIN0JDLBLFHA|B00FN898HU|     462369678|GOLDEN VANTAGE 30...|Major Appliances|          5|            1|          1|   N|                Y|          Five Stars|High end look at ...| 2015-08-22|\n",
            "|         US|   45332207| R9XCQJZA5BKO6|B00N0GDA9O|     286297774|Fisher Paykel RF1...|Major Appliances|          5|            1|          9|   N|                Y|          Five Stars|Expensive but onl...| 2015-08-20|\n",
            "|         US|   14217524|R144T3UALNFF1L|B005GM942C|     788261054|Panda Small Mini ...|Major Appliances|          5|            3|          3|   N|                Y|This is a perfect...|I bought this for...| 2015-08-16|\n",
            "|         US|   24208715|R3L3GUZT0PDH56|B0058ENV2W|     673085264|Midea White/Black...|Major Appliances|          5|            0|          1|   N|                Y|          Five Stars|I am very happy w...| 2015-08-09|\n",
            "|         US|   33532227|R3IN0KR3ZIMYCS|B007OWOK7Q|     274523657|DISPOSABLE FOIL B...|Major Appliances|          5|            0|          0|   N|                Y|you can't find th...|you can't find th...| 2015-08-08|\n",
            "|         US|   11267996| REL2JGWLEGLFX|B00KD5CCZ8|     425600013|NewAir AI-100R 28...|Major Appliances|          5|            0|          0|   N|                Y|     Plenty o' ice !|This little baby ...| 2015-08-06|\n",
            "|         US|    2712123| RIJ9PZW1M5TKG|B00JG8B42K|     672722354|OnePurify RFC0800...|Major Appliances|          5|            0|          0|   N|                Y|Great Filter, Gre...|works just as goo...| 2015-08-04|\n",
            "|         US|   49364773|R3SIN6FLY5VY2C|B00BAXC2W0|     703829999|NY Cake Mold Sili...|Major Appliances|          5|            0|          0|   N|                Y|          Five Stars|Have not used yet...| 2015-08-03|\n",
            "|         US|   12081758| R8WTH6BX9A7L7|B0049PNB3U|     933964733|Builders Best 010...|Major Appliances|          5|            2|          3|   N|                Y|         works great|installed it myse...| 2015-07-28|\n",
            "|         US|   34081007| RWXA5K6OYTKC5|B00VVV0N2W|     574531680|LT700P Replacemen...|Major Appliances|          5|            0|          0|   N|                Y|           Excellent|Excellent. Much b...| 2015-07-27|\n",
            "|         US|   16828213| RDGIIVVUA4R2I|B00UYA73C4|     982221734|McClure's Gap Sea...|Major Appliances|          5|            0|          0|   N|                Y|          Five Stars|They work great. ...| 2015-07-23|\n",
            "|         US|   48927329|R3AYRSEZP104KF|B00JX2P2V8|     363520352|Whirlpool WHER25 ...|Major Appliances|          5|            0|          1|   N|                Y|         Great Price|This was the only...| 2015-07-23|\n",
            "|         US|   15902608|R1X87WGASCQ5XP|B007HKI0OO|     367206991|uxcell Plastic St...|Major Appliances|          5|            0|          0|   N|                Y|          Five Stars|Perfect fit to my...| 2015-07-21|\n",
            "|         US|   28430067| RHPZU5LVSYHBB|B00LT4CLS0|     648938531|         LG WM3477HS|Major Appliances|          5|            3|          3|   N|                Y|but overall i lov...|it's taking me a ...| 2015-07-20|\n",
            "|         US|   28604389|R2ANT1F79UZAB6|B000TVT40W|     256331972|Danby DWC620PL-SC...|Major Appliances|          5|            0|          0|   N|                Y|  Makes a great gift|It was a gift for...| 2015-07-11|\n",
            "|         US|   13482313|R35554JQWVN36Z|B00MMRFQR6|     523742501|Midea WHS-87LSS1 ...|Major Appliances|          5|            9|         12|   N|                Y|          Wonderful!|I don't usually w...| 2015-07-10|\n",
            "|         US|    3071621|R24P7RPNCNJAT6|B002QV83RI|      41205049|Wine Enthusiast S...|Major Appliances|          5|            0|          0|   N|                Y|  I may buy another!|Great wine cooler...| 2015-07-07|\n",
            "+-----------+-----------+--------------+----------+--------------+--------------------+----------------+-----------+-------------+-----------+----+-----------------+--------------------+--------------------+-----------+\n",
            "only showing top 20 rows\n",
            "\n"
          ]
        }
      ]
    },
    {
      "cell_type": "code",
      "source": [
        "print(star5unpaid_df.count())"
      ],
      "metadata": {
        "colab": {
          "base_uri": "https://localhost:8080/"
        },
        "id": "QeIsYZavLsfe",
        "outputId": "6c5491a9-bb4b-4e89-ed6d-8f4e3b05ac80"
      },
      "execution_count": 26,
      "outputs": [
        {
          "output_type": "stream",
          "name": "stdout",
          "text": [
            "49588\n"
          ]
        }
      ]
    },
    {
      "cell_type": "code",
      "source": [
        "paid_df=df.where(\"vine == 'Y'\")"
      ],
      "metadata": {
        "id": "l2ts30P0AqSj"
      },
      "execution_count": 10,
      "outputs": []
    },
    {
      "cell_type": "code",
      "source": [
        "print(paid_df.count())\n",
        "\n"
      ],
      "metadata": {
        "colab": {
          "base_uri": "https://localhost:8080/"
        },
        "id": "Q8BWNQPNHnDq",
        "outputId": "9858c4e3-0cb5-4b1d-c14a-487b899e09ea"
      },
      "execution_count": 11,
      "outputs": [
        {
          "output_type": "stream",
          "name": "stdout",
          "text": [
            "248\n"
          ]
        }
      ]
    },
    {
      "cell_type": "code",
      "source": [
        "paid_df.show()"
      ],
      "metadata": {
        "colab": {
          "base_uri": "https://localhost:8080/"
        },
        "id": "zpZZYFTE62Ke",
        "outputId": "779190a1-17d5-4755-aff4-e3a914a9e69a"
      },
      "execution_count": 12,
      "outputs": [
        {
          "output_type": "stream",
          "name": "stdout",
          "text": [
            "+-----------+-----------+--------------+----------+--------------+--------------------+----------------+-----------+-------------+-----------+----+-----------------+--------------------+--------------------+-----------+\n",
            "|marketplace|customer_id|     review_id|product_id|product_parent|       product_title|product_category|star_rating|helpful_votes|total_votes|vine|verified_purchase|     review_headline|         review_body|review_date|\n",
            "+-----------+-----------+--------------+----------+--------------+--------------------+----------------+-----------+-------------+-----------+----+-----------------+--------------------+--------------------+-----------+\n",
            "|         US|   27249597|R348AGJRTJ4RGR|B00LUGCU0G|     596157190|Whynter BR-091WS ...|Major Appliances|          4|            4|          5|   Y|                N|A sleek looking b...|This is a neat li...| 2014-10-28|\n",
            "|         US|   42644737|R36LKAXN60PHW1|B00M7GMEYK|     350114849|             Whynter|Major Appliances|          5|            2|          3|   Y|                N|Perfect Size For ...|This freezer is p...| 2014-10-12|\n",
            "|         US|   52801489|R1B3OGO36CJKDA|B005XAM44W|     920442298|NewAir AWC-270E 2...|Major Appliances|          5|           15|         20|   Y|                Y|Works Well and Lo...|This NewAir wine ...| 2013-10-02|\n",
            "|         US|   43335941|R2SIOD5SIH2LJN|B001DI4UYA|     455062034|NewAir AW-210ED S...|Major Appliances|          4|           25|         31|   Y|                N|Sleek, convenient...|I realize other c...| 2013-08-15|\n",
            "|         US|   48717516|R3F5J1SZVWB1CO|B00NQFSSWS|     692404913|Samsung Counter T...|Major Appliances|          4|            1|          3|   Y|                N|Nice Upgrade for ...|We found the Sams...| 2015-01-13|\n",
            "|         US|   52683104|R1Q9D3MZ2IPKH7|B00LUGCU0G|     596157190|Whynter BR-091WS ...|Major Appliances|          5|            8|         10|   Y|                N| Practical and Roomy|The Whynter Bever...| 2014-11-04|\n",
            "|         US|   13814078|R3IJF0JN6709ZL|B00G23MKES|     210632419|Whynter IMC-270MB...|Major Appliances|          4|            2|          2|   Y|                N|Handy for camping...|I just received t...| 2014-10-14|\n",
            "|         US|   37840382|R2QI5HO9BUFP1C|B00LUGCU0G|     596157190|Whynter BR-091WS ...|Major Appliances|          5|            8|         10|   Y|                N|Great Beverage Re...|This is a nice lo...| 2014-10-13|\n",
            "|         US|   42540531|R3FMZK1PJ7U1NZ|B003JBAOSU|     341161867|Amana 21.9 cu. ft...|Major Appliances|          4|            1|          3|   Y|                N|   Nice refrigerator|This is the refri...| 2012-04-29|\n",
            "|         US|   52188216|R2PQV8WBUK53E9|B00P7QI4IM|     901651668|Whynter BR-130SB ...|Major Appliances|          5|            2|          4|   Y|                N|   \"Cool\" Fridge ...|Foremost, while I...| 2015-06-05|\n",
            "|         US|   49891124|R2W5PR9ZT6S293|B00NN136NQ|     464779766|Samsung MC11H6033...|Major Appliances|          4|            1|          1|   Y|                N|Nice but awful in...|A very convenient...| 2015-02-01|\n",
            "|         US|   47904504|R3782CVLRT393O|B003JBAOSU|     341161867|Amana 21.9 cu. ft...|Major Appliances|          4|            1|          2|   Y|                N|Stylish, Roomy, a...|The Amana bottom-...| 2012-04-05|\n",
            "|         US|   15302676|R13SWO4OQPMR3P|B002ROS27U|     461806580|Whynter UIM-155 S...|Major Appliances|          4|            5|          7|   Y|                N|Works for our wet...|This little ice m...| 2013-11-21|\n",
            "|         US|   51183828|R2796HV3SL5M1L|B00CQ1O3NG|     601997392|Whynter 20 Bottle...|Major Appliances|          4|           12|         14|   Y|                N|Very nice--LOVE t...|I started drinkin...| 2013-10-24|\n",
            "|         US|   28890721|R1N1A246L37CMX|B0054LAP6Y|     748007811|Amana Refrigerato...|Major Appliances|          3|            2|         16|   Y|                N|Professional crew...|Update: My mother...| 2011-10-26|\n",
            "|         US|   52165591|R2ZS8ROAOAT84K|B00P7QI4IM|     901651668|Whynter BR-130SB ...|Major Appliances|          5|           10|         12|   Y|                N|Great looking sma...|The items comes e...| 2015-06-11|\n",
            "|         US|   47914576| R5YFC5G8V2B3I|B00NQFSSWS|     692404913|Samsung Counter T...|Major Appliances|          5|          104|        117|   Y|                N|This Combination ...|Is a combination ...| 2015-01-12|\n",
            "|         US|   27769608|R320MQHTFW6U61|B00NN136NQ|     464779766|Samsung MC11H6033...|Major Appliances|          4|            3|          3|   Y|                N|Great value for m...|This is a very ve...| 2014-12-28|\n",
            "|         US|   30057302| RPK1FLM4MLBR0|B00NN136NQ|     464779766|Samsung MC11H6033...|Major Appliances|          4|            3|          4|   Y|                N|A Large, Multi-Fu...|This convection o...| 2015-01-20|\n",
            "|         US|   18267561|R1VKUM2TOW3X3X|B00NXRHIO8|     692404913|Samsung Counter T...|Major Appliances|          3|           11|         15|   Y|                N|Good for dorm roo...|After about a mon...| 2015-02-04|\n",
            "+-----------+-----------+--------------+----------+--------------+--------------------+----------------+-----------+-------------+-----------+----+-----------------+--------------------+--------------------+-----------+\n",
            "only showing top 20 rows\n",
            "\n"
          ]
        }
      ]
    },
    {
      "cell_type": "markdown",
      "source": [
        ""
      ],
      "metadata": {
        "id": "fSa2W363-wmd"
      }
    },
    {
      "cell_type": "code",
      "source": [
        "star5paid_df=paid_df.where(\"star_rating == '5'\")"
      ],
      "metadata": {
        "id": "edFpwrMiGkPu"
      },
      "execution_count": 28,
      "outputs": []
    },
    {
      "cell_type": "code",
      "source": [
        "star5paid_df.show()"
      ],
      "metadata": {
        "colab": {
          "base_uri": "https://localhost:8080/"
        },
        "id": "RYQRBBj4DiP3",
        "outputId": "c79a52b5-10cb-4672-9281-b9c0139900d9"
      },
      "execution_count": 29,
      "outputs": [
        {
          "output_type": "stream",
          "name": "stdout",
          "text": [
            "+-----------+-----------+--------------+----------+--------------+--------------------+----------------+-----------+-------------+-----------+----+-----------------+--------------------+--------------------+-----------+\n",
            "|marketplace|customer_id|     review_id|product_id|product_parent|       product_title|product_category|star_rating|helpful_votes|total_votes|vine|verified_purchase|     review_headline|         review_body|review_date|\n",
            "+-----------+-----------+--------------+----------+--------------+--------------------+----------------+-----------+-------------+-----------+----+-----------------+--------------------+--------------------+-----------+\n",
            "|         US|   42644737|R36LKAXN60PHW1|B00M7GMEYK|     350114849|             Whynter|Major Appliances|          5|            2|          3|   Y|                N|Perfect Size For ...|This freezer is p...| 2014-10-12|\n",
            "|         US|   52801489|R1B3OGO36CJKDA|B005XAM44W|     920442298|NewAir AWC-270E 2...|Major Appliances|          5|           15|         20|   Y|                Y|Works Well and Lo...|This NewAir wine ...| 2013-10-02|\n",
            "|         US|   52683104|R1Q9D3MZ2IPKH7|B00LUGCU0G|     596157190|Whynter BR-091WS ...|Major Appliances|          5|            8|         10|   Y|                N| Practical and Roomy|The Whynter Bever...| 2014-11-04|\n",
            "|         US|   37840382|R2QI5HO9BUFP1C|B00LUGCU0G|     596157190|Whynter BR-091WS ...|Major Appliances|          5|            8|         10|   Y|                N|Great Beverage Re...|This is a nice lo...| 2014-10-13|\n",
            "|         US|   52188216|R2PQV8WBUK53E9|B00P7QI4IM|     901651668|Whynter BR-130SB ...|Major Appliances|          5|            2|          4|   Y|                N|   \"Cool\" Fridge ...|Foremost, while I...| 2015-06-05|\n",
            "|         US|   52165591|R2ZS8ROAOAT84K|B00P7QI4IM|     901651668|Whynter BR-130SB ...|Major Appliances|          5|           10|         12|   Y|                N|Great looking sma...|The items comes e...| 2015-06-11|\n",
            "|         US|   47914576| R5YFC5G8V2B3I|B00NQFSSWS|     692404913|Samsung Counter T...|Major Appliances|          5|          104|        117|   Y|                N|This Combination ...|Is a combination ...| 2015-01-12|\n",
            "|         US|   15305392|R2X7TSP5H3WVMR|B0026RYFHE|      54970282|Amana 4.8 cu. ft....|Major Appliances|          5|           14|         14|   Y|                N|Great all around ...|I am a fan of thi...| 2012-02-09|\n",
            "|         US|   51801361|R14U7ZRKBP4L5E|B00P7QI4IM|     901651668|Whynter BR-130SB ...|Major Appliances|          5|            4|          5|   Y|                N|Attractive & Flex...|I just starting u...| 2015-06-16|\n",
            "|         US|   31302915|R16L30RUJCRQ5S|B00G23MKES|     210632419|Whynter IMC-270MB...|Major Appliances|          5|           11|         11|   Y|                N|Great product for...|This thing is awe...| 2014-10-14|\n",
            "|         US|   39356725|R1UPW6VTS2JWQW|B00NN136NQ|     464779766|Samsung MC11H6033...|Major Appliances|          5|            1|          2|   Y|                N|Excellent value f...|I love the combo ...| 2015-01-02|\n",
            "|         US|   51718901| RPNCLJWGOLNS2|B00NN136NQ|     464779766|Samsung MC11H6033...|Major Appliances|          5|            3|          4|   Y|                N|Exceeds expectations|Setting it up it ...| 2015-01-08|\n",
            "|         US|   17481726|R19WCOMJ8R2DS2|B00LUGCU0G|     596157190|Whynter BR-091WS ...|Major Appliances|          5|            8|         11|   Y|                N|Great Looking and...|The Whynter BR-09...| 2014-10-24|\n",
            "|         US|   43362091|R3EP3KKBLXI5HR|B0054LAP6Y|     748007811|Amana Refrigerato...|Major Appliances|          5|            5|          6|   Y|                N|Best delivery/ins...|This installation...| 2011-11-07|\n",
            "|         US|   50529300|R34C4BLRJPH3TL|B005OTCTHO|     308377434|Amana 3.4-Cubic F...|Major Appliances|          5|           48|         53|   Y|                N|Video Review on t...|[[VIDEOID:mo2RIQ5...| 2012-01-09|\n",
            "|         US|   17783783|R115FIREQBFCFS|B00NXRHIO8|     692404913|Samsung Counter T...|Major Appliances|          5|            6|          7|   Y|                N|Smart Cooking! Th...|I'm not ashamed t...| 2015-01-26|\n",
            "|         US|   48836233|R3G0GOG0CWU7AU|B00702RU5E|     987465727|Amana Tall Tub Di...|Major Appliances|          5|           36|         37|   Y|                N|     Good basic unit|This Amana Tall T...| 2012-05-23|\n",
            "|         US|   49620639|R3PRL3MRIQ6PM4|B0054LCPGC|     917653210|Amana Washer Inst...|Major Appliances|          5|            3|          3|   Y|                N|JB Hunt delivery:...|JB Hunt contacted...| 2011-12-29|\n",
            "|         US|   14706793|R3FX50WUW6F7OW|B0054LCPGC|     917653210|Amana Washer Inst...|Major Appliances|          5|            1|          2|   Y|                N|Friendly Fast Ins...|I had one little ...| 2011-10-28|\n",
            "|         US|   41549558|R3JZESUBGDWNC4|B00P7QI4IM|     901651668|Whynter BR-130SB ...|Major Appliances|          5|            3|          4|   Y|                N|Classes up the joint|This fridge is ve...| 2015-06-25|\n",
            "+-----------+-----------+--------------+----------+--------------+--------------------+----------------+-----------+-------------+-----------+----+-----------------+--------------------+--------------------+-----------+\n",
            "only showing top 20 rows\n",
            "\n"
          ]
        }
      ]
    },
    {
      "cell_type": "code",
      "source": [
        "print(star5paid_df.count())"
      ],
      "metadata": {
        "colab": {
          "base_uri": "https://localhost:8080/"
        },
        "id": "eCd90bMCHObC",
        "outputId": "76354811-3505-4ad5-f284-00e0d4c924d5"
      },
      "execution_count": 30,
      "outputs": [
        {
          "output_type": "stream",
          "name": "stdout",
          "text": [
            "112\n"
          ]
        }
      ]
    },
    {
      "cell_type": "code",
      "source": [
        "star1paid_df=paid_df.where(\"star_rating == '1'\")"
      ],
      "metadata": {
        "id": "djgmTVgjUlTm"
      },
      "execution_count": 35,
      "outputs": []
    },
    {
      "cell_type": "code",
      "source": [
        "star1paid_df.show()"
      ],
      "metadata": {
        "colab": {
          "base_uri": "https://localhost:8080/"
        },
        "id": "A1yc9V1TUpkt",
        "outputId": "9768b5de-5e64-41f4-c046-3c7d6ba62286"
      },
      "execution_count": 38,
      "outputs": [
        {
          "output_type": "stream",
          "name": "stdout",
          "text": [
            "+-----------+-----------+--------------+----------+--------------+--------------------+----------------+-----------+-------------+-----------+----+-----------------+--------------------+--------------------+-----------+\n",
            "|marketplace|customer_id|     review_id|product_id|product_parent|       product_title|product_category|star_rating|helpful_votes|total_votes|vine|verified_purchase|     review_headline|         review_body|review_date|\n",
            "+-----------+-----------+--------------+----------+--------------+--------------------+----------------+-----------+-------------+-----------+----+-----------------+--------------------+--------------------+-----------+\n",
            "|         US|   30092914|R28B5FVG088F11|B00J23C5PO|     201017666|Coca-Cola Soccer ...|Major Appliances|          1|            0|          0|   Y|                N|Wow- really? Who ...|Other than if you...| 2014-06-17|\n",
            "|         US|   24685789|R36XE8CKUMYXN2|B008RL4OCY|     726642495|NewAir AI-215SS P...|Major Appliances|          1|           10|         14|   Y|                N|Arrived Broken, d...|I'm not sure what...| 2013-07-30|\n",
            "|         US|   29139601| R8OIDXKAXIMRB|B00J23C5PO|     201017666|Coca-Cola Soccer ...|Major Appliances|          1|            1|          2|   Y|                N|Cute idea but not...|I thought that th...| 2014-06-18|\n",
            "+-----------+-----------+--------------+----------+--------------+--------------------+----------------+-----------+-------------+-----------+----+-----------------+--------------------+--------------------+-----------+\n",
            "\n"
          ]
        }
      ]
    },
    {
      "cell_type": "code",
      "source": [
        "print(star1paid_df.count())"
      ],
      "metadata": {
        "colab": {
          "base_uri": "https://localhost:8080/"
        },
        "id": "xWWC86bkUpTA",
        "outputId": "50e27d68-39c2-4426-fed0-8686fbe2308e"
      },
      "execution_count": 36,
      "outputs": [
        {
          "output_type": "stream",
          "name": "stdout",
          "text": [
            "3\n"
          ]
        }
      ]
    },
    {
      "cell_type": "markdown",
      "metadata": {
        "id": "klopnaUE_eZV"
      },
      "source": [
        "## Rename columns"
      ]
    },
    {
      "cell_type": "markdown",
      "metadata": {
        "id": "_Or1RnPr_nzd"
      },
      "source": [
        "## Create a new DataFrame for employee passwords"
      ]
    },
    {
      "cell_type": "markdown",
      "metadata": {
        "id": "SCmoHROm_saU"
      },
      "source": [
        "## Write DataFrame to RDS"
      ]
    },
    {
      "cell_type": "code",
      "execution_count": null,
      "metadata": {
        "id": "Tvw--Ool_vju"
      },
      "outputs": [],
      "source": [
        ""
      ]
    }
  ],
  "metadata": {
    "colab": {
      "collapsed_sections": [],
      "name": "Big_data_level2 (1).ipynb",
      "provenance": []
    },
    "kernelspec": {
      "display_name": "Python 3",
      "language": "python",
      "name": "python3"
    },
    "language_info": {
      "codemirror_mode": {
        "name": "ipython",
        "version": 3
      },
      "file_extension": ".py",
      "mimetype": "text/x-python",
      "name": "python",
      "nbconvert_exporter": "python",
      "pygments_lexer": "ipython3",
      "version": "3.7.4"
    },
    "latex_envs": {
      "LaTeX_envs_menu_present": true,
      "autoclose": false,
      "autocomplete": true,
      "bibliofile": "biblio.bib",
      "cite_by": "apalike",
      "current_citInitial": 1,
      "eqLabelWithNumbers": true,
      "eqNumInitial": 1,
      "hotkeys": {
        "equation": "Ctrl-E",
        "itemize": "Ctrl-I"
      },
      "labels_anchors": false,
      "latex_user_defs": false,
      "report_style_numbering": false,
      "user_envs_cfg": false
    }
  },
  "nbformat": 4,
  "nbformat_minor": 0
}